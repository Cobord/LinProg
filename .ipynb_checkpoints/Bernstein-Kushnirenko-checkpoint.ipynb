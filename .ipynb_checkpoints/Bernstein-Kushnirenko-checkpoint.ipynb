{
 "cells": [
  {
   "cell_type": "code",
   "execution_count": 42,
   "metadata": {
    "collapsed": false
   },
   "outputs": [
    {
     "name": "stdout",
     "output_type": "stream",
     "text": [
      "[[[1, 1, 1], [1, 2, 1.5], [1, 3, 2], [4, 5, 6], [10, 10, 10], [7, -3, 4]], [[1, 1, 1], [1, 3, 2], [4, 5, 6], [7, -3, 4]], [[1, 1, 1], [1, 3, 2], [4, 5, 6], [0, 0, 0], [7, -3, 4]]]\n",
      "[[1, 1, 1], [1, 2, 1.5], [1, 3, 2], [4, 5, 6], [10, 10, 10], [7, -3, 4]]\n",
      "[ 0.00064133  0.00181133  0.00126033  0.00317033  0.00132367  0.00329367\n",
      "  0.00222067  0.00513067]\n"
     ]
    }
   ],
   "source": [
    "from scipy.spatial import ConvexHull\n",
    "import numpy as np\n",
    "import itertools\n",
    "\n",
    "# example exponents for 3 Laurent polynomials in 3 variables\n",
    "# the first one has it's second one in the line connecting firts and third\n",
    "# so that will disappear when convex hulls are taken\n",
    "f1=[[1,1,1],[1,2,1.5],[1,3,2],[4,5,6],[10,10,10],[7,-3,4]]\n",
    "f2=[[1,1,1],[1,3,2],[4,5,6],[7,-3,4]]\n",
    "f3=[[1,1,1],[1,3,2],[4,5,6],[0,0,0],[7,-3,4]]\n",
    "fexponents=[f1,f2,f3]\n",
    "print(fexponents)\n",
    "print(fexponents[0])\n",
    "\n",
    "# take the extreme points of a convex hull. Call that vertices then recale by lambdai\n",
    "# and give their convex hull\n",
    "def rescaleHull(deltai,lambdai):\n",
    "    vertices=deltai.points[deltai.vertices]\n",
    "    return ConvexHull(vertices*lambdai)\n",
    "\n",
    "# again can take WLOG only the extreme points, make all possible sums as newpoints\n",
    "# then output their convex hull\n",
    "def minkowskiSum(hull1,hull2):\n",
    "    vertices1=hull1.points[hull1.vertices]\n",
    "    vertices2=hull2.points[hull2.vertices]\n",
    "    newpoints=list(map(lambda x: x[0]+x[1],list(itertools.product(vertices1, vertices2))))\n",
    "    return ConvexHull(newpoints)\n",
    "\n",
    "# take 2n hulls indexed by low or high rescaling, and which f used\n",
    "# use i to indicate which of the 2 to take for each of the n\n",
    "# form the Minkowski sum of all of these and return the volume\n",
    "def getVolume(hulls,i,n):\n",
    "    if (n==1):\n",
    "        return hulls[i].volume\n",
    "    currentHull=hulls[i%2][0]\n",
    "    for j in range(n-1):\n",
    "        i=i>>1\n",
    "        currentHull=minkowskiSum(currentHull,hulls[i%2][j+1])\n",
    "    return currentHull.volume\n",
    "\n",
    "# meant to return the mixed volume with estimating derivatives numerically\n",
    "# using lambda_1 \\cdots lambda_n either .01 or .02\n",
    "# that information is then used to estimate derivative at all of them 0\n",
    "# that gives number of solutions by Bernstein-Kushnirenko theorem\n",
    "def genericNumSol(fexponents,n):\n",
    "    lambdas=[.01,.02]\n",
    "    delta=[]\n",
    "    for i in range(n):\n",
    "        delta.append(ConvexHull(fexponents[i]))\n",
    "    deltaL=[]\n",
    "    for i in range(n):\n",
    "        deltaL.append(rescaleHull(delta[i],lambdas[0]))\n",
    "    deltaH=[]\n",
    "    for i in range(n):\n",
    "        deltaH.append(rescaleHull(delta[i],lambdas[1]))\n",
    "    deltaF=[deltaL,deltaH]\n",
    "    volume=np.zeros(2**n)\n",
    "    for i in range(2**n):\n",
    "        volume[i]=getVolume(deltaF,i,n)\n",
    "    # go from this volume function to its derivative at 0, remains to be done\n",
    "    return volume\n",
    "\n",
    "volume=genericNumSol(fexponents,3)\n",
    "print(volume)"
   ]
  },
  {
   "cell_type": "code",
   "execution_count": null,
   "metadata": {
    "collapsed": true
   },
   "outputs": [],
   "source": []
  }
 ],
 "metadata": {
  "kernelspec": {
   "display_name": "Python 3",
   "language": "python",
   "name": "python3"
  },
  "language_info": {
   "codemirror_mode": {
    "name": "ipython",
    "version": 3
   },
   "file_extension": ".py",
   "mimetype": "text/x-python",
   "name": "python",
   "nbconvert_exporter": "python",
   "pygments_lexer": "ipython3",
   "version": "3.6.0"
  }
 },
 "nbformat": 4,
 "nbformat_minor": 2
}
